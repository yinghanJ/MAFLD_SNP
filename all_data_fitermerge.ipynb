{
 "cells": [
  {
   "cell_type": "code",
   "execution_count": 10,
   "metadata": {},
   "outputs": [
    {
     "name": "stdout",
     "output_type": "stream",
     "text": [
      "Defaulting to user installation because normal site-packages is not writeable\n",
      "Collecting pip\n",
      "  Downloading pip-23.0.1-py3-none-any.whl (2.1 MB)\n",
      "Installing collected packages: pip\n",
      "Successfully installed pip-23.0.1\n",
      "Note: you may need to restart the kernel to use updated packages.\n"
     ]
    },
    {
     "name": "stderr",
     "output_type": "stream",
     "text": [
      "  WARNING: The scripts pip.exe, pip3.9.exe and pip3.exe are installed in 'C:\\Users\\YJIA0001\\AppData\\Roaming\\Python\\Python39\\Scripts' which is not on PATH.\n",
      "  Consider adding this directory to PATH or, if you prefer to suppress this warning, use --no-warn-script-location.\n"
     ]
    }
   ],
   "source": [
    "pip install --upgrade pip"
   ]
  },
  {
   "cell_type": "code",
   "execution_count": 11,
   "metadata": {},
   "outputs": [
    {
     "name": "stdout",
     "output_type": "stream",
     "text": [
      "Defaulting to user installation because normal site-packages is not writeable\n",
      "Requirement already satisfied: pandas in c:\\users\\yjia0001\\appdata\\roaming\\python\\python39\\site-packages (1.5.3)\n",
      "Requirement already satisfied: pytz>=2020.1 in c:\\users\\yjia0001\\appdata\\roaming\\python\\python39\\site-packages (from pandas) (2022.7.1)\n",
      "Requirement already satisfied: python-dateutil>=2.8.1 in c:\\users\\yjia0001\\appdata\\roaming\\python\\python39\\site-packages (from pandas) (2.8.2)\n",
      "Requirement already satisfied: numpy>=1.20.3 in c:\\users\\yjia0001\\appdata\\roaming\\python\\python39\\site-packages (from pandas) (1.24.2)\n",
      "Requirement already satisfied: six>=1.5 in c:\\users\\yjia0001\\appdata\\roaming\\python\\python39\\site-packages (from python-dateutil>=2.8.1->pandas) (1.16.0)\n",
      "Note: you may need to restart the kernel to use updated packages.\n"
     ]
    }
   ],
   "source": [
    "pip install pandas"
   ]
  },
  {
   "cell_type": "code",
   "execution_count": 4,
   "metadata": {},
   "outputs": [],
   "source": [
    "import csv\r\n",
    "import pandas\r\n",
    "import pandas as pd"
   ]
  },
  {
   "cell_type": "code",
   "execution_count": 7,
   "metadata": {},
   "outputs": [
    {
     "name": "stderr",
     "output_type": "stream",
     "text": [
      "C:\\Users\\YJIA0001\\AppData\\Local\\Temp\\ipykernel_8980\\1962941277.py:1: DtypeWarning: Columns (986,987,988,989,990,991,992,993,994,995,996,997,998,999,1000,1001,1002,1003,1004,1005,1096,1097,1098,1099,1100,1101,1102,1103,1104,1105,1106,1107,1108,1109,1110,1111,1112,1113,1114,1115,1116,1214,1215,1216,1217,1218,1219,1220,1221,1222,1223,1224,1225,1226,1227,1228,1229,1230,1231,1232,1233,1324,1325,1326,1327,1328,1329,1330,1331,1332,1333,1334,1335,1336,1337,1338,1339,1340,1341,1342,1343,1344,2093,2094,2095,2096,2141,2142,2143,2144,2145,2146,2147,2148,2149,2150,2151,2152,2153,2154,2155,2156,2157,2158,2159,2160,2161,2162,2163,2164,2165,2166,2167,2168,2169,2170,2171,2172,2173,2174,2175,2176,2177,2178,2179,2180,2181,2182,2183,2184,2185,2186,2187,2188,2189,2190,2191,2196,2197,2198,2199,2200,2204,2277,2278,2279,2280,2281,2282,2283,2284,2285,2286,2287,2288,2289,2290,2291,2292,2293,2294,2295,2296,2297,2298,2299,2300,2301,2302,2303,2304,2305,2306,2307,2308,2309,2310,2311,2312,2313,2314,2315,2316,2317,2318,2319,2320,2321,2322,2323,2324,2325,2326,2327,2328,2329,2330,2331,2332,2333,2334,2335,2336,2337,2338,2339,2340,2341,2342,2343,2344,2345,2346,2347,2348,2349,2350,2351,2352,2353,2354,2355,2356,2357,2358,2359,2360,2361,2362,2363,2364,2365,2366,2408,2409,2410,2411,2412,2413,2414,2415,2418,2419,2420,2421,2422,2471,2473,2475,2481,2483,2485,2489,2491,2493,2756,2759,2765,2771,2773,2775,2777,2779) have mixed types. Specify dtype option on import or set low_memory=False.\n",
      "  all_data = pd.read_csv('all_data.csv', sep=',', dtype={'a': str})\n"
     ]
    }
   ],
   "source": [
    "all_data = pd.read_csv('all_data.csv', sep=',', dtype={'a': str})"
   ]
  },
  {
   "cell_type": "code",
   "execution_count": 16,
   "metadata": {},
   "outputs": [
    {
     "name": "stdout",
     "output_type": "stream",
     "text": [
      "       eid  31-0.0  34-0.0  39-0.0  39-1.0  39-2.0  39-3.0  48-0.0  48-1.0  \\\n",
      "0  1000016       1    1947  2871.0     NaN     NaN     NaN    87.2     NaN   \n",
      "1  1000021       0    1942  2890.0     NaN     NaN     NaN    69.0     NaN   \n",
      "2  1000033       1    1967  2872.0     NaN     NaN     NaN    96.0     NaN   \n",
      "3  1000049       1    1942  2893.0     NaN     NaN     NaN   108.0     NaN   \n",
      "4  1000057       0    1960  2892.0     NaN     NaN     NaN    96.0     NaN   \n",
      "\n",
      "   48-2.0  ...  131380-0.0  131381-0.0  131658-0.0  131659-0.0  131662-0.0  \\\n",
      "0     NaN  ...         NaN         NaN         NaN         NaN         NaN   \n",
      "1     NaN  ...         NaN         NaN         NaN         NaN         NaN   \n",
      "2     NaN  ...         NaN         NaN         NaN         NaN         NaN   \n",
      "3     NaN  ...         NaN         NaN         NaN         NaN         NaN   \n",
      "4     NaN  ...         NaN         NaN         NaN         NaN         NaN   \n",
      "\n",
      "   131663-0.0  131666-0.0  131667-0.0  132202-0.0  132203-0.0  \n",
      "0         NaN         NaN         NaN         NaN         NaN  \n",
      "1         NaN         NaN         NaN         NaN         NaN  \n",
      "2         NaN         NaN         NaN         NaN         NaN  \n",
      "3         NaN         NaN         NaN         NaN         NaN  \n",
      "4         NaN         NaN         NaN         NaN         NaN  \n",
      "\n",
      "[5 rows x 2781 columns]\n"
     ]
    }
   ],
   "source": [
    "print(all_data.head())"
   ]
  },
  {
   "cell_type": "markdown",
   "metadata": {},
   "source": [
    "6150 Vascular/heart problems diagnosed by doctor 4 si yes "
   ]
  },
  {
   "cell_type": "code",
   "execution_count": 34,
   "metadata": {},
   "outputs": [],
   "source": [
    "all_data_48 = all_data.loc[:, '48-0.0']\r\n",
    "all_data_2443 = all_data.loc[:, '2443-0.0']\r\n",
    "all_data_2976 = all_data.loc[:, '2976-0.0']\r\n",
    "all_data_2986 = all_data.loc[:, '2986-0.0']\r\n",
    "all_data_4056 = all_data.loc[:, '4056-0.0']\r\n",
    "all_data_6150 = all_data.loc[:, '6150-0.0']"
   ]
  },
  {
   "cell_type": "code",
   "execution_count": 41,
   "metadata": {},
   "outputs": [],
   "source": [
    "merge_data = pd.concat([all_data_48, all_data_2443, all_data_2976, all_data_2986, all_data_4056,all_data_6150], ignore_index=True, axis=1)"
   ]
  },
  {
   "cell_type": "code",
   "execution_count": 42,
   "metadata": {},
   "outputs": [
    {
     "name": "stdout",
     "output_type": "stream",
     "text": [
      "          0    1     2    3     4    5\n",
      "0      87.2  1.0  27.0  1.0   NaN -7.0\n",
      "1      69.0  0.0   NaN  NaN   NaN -7.0\n",
      "2      96.0  0.0   NaN  NaN   NaN -7.0\n",
      "3     108.0  0.0   NaN  NaN   NaN -7.0\n",
      "4      96.0  0.0   NaN  NaN   NaN -7.0\n",
      "...     ...  ...   ...  ...   ...  ...\n",
      "3473   95.0  0.0   NaN  NaN   NaN -7.0\n",
      "3474   87.0  0.0   NaN  NaN   NaN -7.0\n",
      "3475   90.0  0.0   NaN  NaN   NaN -7.0\n",
      "3476   84.0  0.0   NaN  NaN  54.0  3.0\n",
      "3477   95.0  0.0   NaN  NaN   NaN  4.0\n",
      "\n",
      "[3478 rows x 6 columns]\n"
     ]
    }
   ],
   "source": [
    "print(merge_data)"
   ]
  },
  {
   "cell_type": "code",
   "execution_count": 43,
   "metadata": {},
   "outputs": [],
   "source": [
    "merge_data.to_csv(r'C:\\Users\\YJIA0001\\Desktop\\merge_data.csv', index=False)"
   ]
  }
 ],
 "metadata": {
  "kernelspec": {
   "display_name": "Python 3.9.2 64-bit",
   "name": "python392jvsc74a57bd068778232e7ff5d03f6a6a8dc99375374b8cd7886713e5e1579c5c88df2af7c40"
  },
  "language_info": {
   "codemirror_mode": {
    "name": "ipython",
    "version": 3
   },
   "file_extension": ".py",
   "mimetype": "text/x-python",
   "name": "python",
   "nbconvert_exporter": "python",
   "pygments_lexer": "ipython3",
   "version": "3.9.2"
  },
  "metadata": {
   "interpreter": {
    "hash": "68778232e7ff5d03f6a6a8dc99375374b8cd7886713e5e1579c5c88df2af7c40"
   }
  },
  "orig_nbformat": 2
 },
 "nbformat": 4,
 "nbformat_minor": 2
}